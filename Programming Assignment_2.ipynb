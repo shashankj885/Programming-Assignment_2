{
 "cells": [
  {
   "cell_type": "code",
   "execution_count": 10,
   "id": "bf8786dc",
   "metadata": {},
   "outputs": [
    {
     "name": "stdout",
     "output_type": "stream",
     "text": [
      "Insert a positive value of Distance in Km=20\n",
      "Distance in Miles 12.42742\n"
     ]
    }
   ],
   "source": [
    "a=int(input(\"Insert a positive value of Distance in Km=\"))\n",
    "b=a*0.621371\n",
    "if a>0:\n",
    "    print(\"Distance in Miles\",b)\n",
    "else:\n",
    "    print(\"Insert a positive value of Distance in Km, try again\")"
   ]
  },
  {
   "cell_type": "code",
   "execution_count": 5,
   "id": "b186d597",
   "metadata": {},
   "outputs": [
    {
     "name": "stdout",
     "output_type": "stream",
     "text": [
      "Insert a value of Temperature in degree c =10\n",
      "Temperature in Fahrenheit= 50.0\n"
     ]
    }
   ],
   "source": [
    "a=int(input(\"Insert a value of Temperature in degree c =\"))\n",
    "b= (a*1.8+32)\n",
    "print(\"Temperature in Fahrenheit=\",b)"
   ]
  },
  {
   "cell_type": "code",
   "execution_count": 16,
   "id": "6ac7e822",
   "metadata": {},
   "outputs": [
    {
     "name": "stdout",
     "output_type": "stream",
     "text": [
      "Insert a year in YYYY format=2022\n",
      "                                  2022\n",
      "\n",
      "      January                   February                   March\n",
      "Mo Tu We Th Fr Sa Su      Mo Tu We Th Fr Sa Su      Mo Tu We Th Fr Sa Su\n",
      "                1  2          1  2  3  4  5  6          1  2  3  4  5  6\n",
      " 3  4  5  6  7  8  9       7  8  9 10 11 12 13       7  8  9 10 11 12 13\n",
      "10 11 12 13 14 15 16      14 15 16 17 18 19 20      14 15 16 17 18 19 20\n",
      "17 18 19 20 21 22 23      21 22 23 24 25 26 27      21 22 23 24 25 26 27\n",
      "24 25 26 27 28 29 30      28                        28 29 30 31\n",
      "31\n",
      "\n",
      "       April                      May                       June\n",
      "Mo Tu We Th Fr Sa Su      Mo Tu We Th Fr Sa Su      Mo Tu We Th Fr Sa Su\n",
      "             1  2  3                         1             1  2  3  4  5\n",
      " 4  5  6  7  8  9 10       2  3  4  5  6  7  8       6  7  8  9 10 11 12\n",
      "11 12 13 14 15 16 17       9 10 11 12 13 14 15      13 14 15 16 17 18 19\n",
      "18 19 20 21 22 23 24      16 17 18 19 20 21 22      20 21 22 23 24 25 26\n",
      "25 26 27 28 29 30         23 24 25 26 27 28 29      27 28 29 30\n",
      "                          30 31\n",
      "\n",
      "        July                     August                  September\n",
      "Mo Tu We Th Fr Sa Su      Mo Tu We Th Fr Sa Su      Mo Tu We Th Fr Sa Su\n",
      "             1  2  3       1  2  3  4  5  6  7                1  2  3  4\n",
      " 4  5  6  7  8  9 10       8  9 10 11 12 13 14       5  6  7  8  9 10 11\n",
      "11 12 13 14 15 16 17      15 16 17 18 19 20 21      12 13 14 15 16 17 18\n",
      "18 19 20 21 22 23 24      22 23 24 25 26 27 28      19 20 21 22 23 24 25\n",
      "25 26 27 28 29 30 31      29 30 31                  26 27 28 29 30\n",
      "\n",
      "      October                   November                  December\n",
      "Mo Tu We Th Fr Sa Su      Mo Tu We Th Fr Sa Su      Mo Tu We Th Fr Sa Su\n",
      "                1  2          1  2  3  4  5  6                1  2  3  4\n",
      " 3  4  5  6  7  8  9       7  8  9 10 11 12 13       5  6  7  8  9 10 11\n",
      "10 11 12 13 14 15 16      14 15 16 17 18 19 20      12 13 14 15 16 17 18\n",
      "17 18 19 20 21 22 23      21 22 23 24 25 26 27      19 20 21 22 23 24 25\n",
      "24 25 26 27 28 29 30      28 29 30                  26 27 28 29 30 31\n",
      "31\n",
      "\n"
     ]
    }
   ],
   "source": [
    "import calendar\n",
    "year = int(input(\"Insert a year in YYYY format=\"))\n",
    "if year>0:\n",
    "    print(calendar.calendar(year))\n",
    "else:\n",
    "    print(\"Insert a positive no., Try Again\")"
   ]
  },
  {
   "cell_type": "code",
   "execution_count": 17,
   "id": "21966677",
   "metadata": {},
   "outputs": [
    {
     "name": "stdout",
     "output_type": "stream",
     "text": [
      "Insert a real and non zero number a=20\n",
      "Insert a real no. b=10\n",
      "Insert a real no. c=30\n",
      "(-0.24999999999999992+1.1989578808281798j) (-0.2500000000000001-1.1989578808281798j)\n"
     ]
    }
   ],
   "source": [
    "a=int(input(\"Insert a real and non zero number a=\"))\n",
    "b=int(input(\"Insert a real no. b=\"))\n",
    "c=int(input(\"Insert a real no. c=\"))\n",
    "if a>0 or a<0:\n",
    "    d= (-(b)+((b**2-4*a*c))**0.5)/(2*a)\n",
    "    e=(-(b)-((b**2-4*a*c))**0.5)/(2*a)\n",
    "    print(d,e)\n",
    "else:\n",
    "    print(\"Insert a real and non zero number a, Try again\")"
   ]
  },
  {
   "cell_type": "code",
   "execution_count": 18,
   "id": "6a2bcc20",
   "metadata": {},
   "outputs": [
    {
     "name": "stdout",
     "output_type": "stream",
     "text": [
      "x=10\n",
      "y=200\n",
      "New value of x= 200\n",
      "New value of y 10\n"
     ]
    }
   ],
   "source": [
    "x=int(input(\"x=\"))\n",
    "y=int(input(\"y=\"))\n",
    "\n",
    "x,y=y,x\n",
    "print(\"New value of x=\",x)\n",
    "print(\"New value of y\",y)"
   ]
  },
  {
   "cell_type": "code",
   "execution_count": null,
   "id": "ab09ce95",
   "metadata": {},
   "outputs": [],
   "source": []
  }
 ],
 "metadata": {
  "kernelspec": {
   "display_name": "Python 3 (ipykernel)",
   "language": "python",
   "name": "python3"
  },
  "language_info": {
   "codemirror_mode": {
    "name": "ipython",
    "version": 3
   },
   "file_extension": ".py",
   "mimetype": "text/x-python",
   "name": "python",
   "nbconvert_exporter": "python",
   "pygments_lexer": "ipython3",
   "version": "3.9.12"
  }
 },
 "nbformat": 4,
 "nbformat_minor": 5
}
